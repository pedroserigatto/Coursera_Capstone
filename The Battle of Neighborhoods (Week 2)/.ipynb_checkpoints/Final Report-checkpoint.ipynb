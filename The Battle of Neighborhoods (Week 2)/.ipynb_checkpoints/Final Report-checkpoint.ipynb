{
 "cells": [
  {
   "cell_type": "markdown",
   "metadata": {},
   "source": [
    "# The Battle of Neighborhoods | Final Report"
   ]
  },
  {
   "cell_type": "markdown",
   "metadata": {},
   "source": [
    "## Introduction:\n",
    "\n",
    "This project has the purpose of helping people explore facilities around their neighbourhood, or possible neighbourhoods they would consider living in. Lots of people are migrating to São Paulo, Brazil, and needed lots of research for good housing prices and reputated schools for their children. This project aims ease of access to Cafe, School, Super market, medical shops, grocery shops, mall, theatre, hospital, like minded people, etc.\n",
    "\n",
    "It was built upon data colected from São Paulo, Brazil, but I could easily be reused for any city around the world, just changing parameters in the code. One could easily compare locations in order to choose a place that better suits them.\n",
    "\n",
    "\n",
    "## The Location:\n",
    "We require geographical location data for São Paulo and its neighbourhoods. Postal codes are useful as a starting point. Using Postal codes we can find out the neighborhoods, boroughs, venues and their most popular venue categories.\n",
    "\n",
    "## Foursquare API:\n",
    "This project would use Four-square API as its prime data gathering source as it has a database of millions of places, especially their API places which provides the ability to perform location search, location sharing and details about a business.\n",
    "\n",
    "Due to http request limitations the number of places per neighborhood parameter would reasonably be set to 300 and the radius parameter would be set to 1000.\n",
    "\n",
    "\n",
    "## Clustering Approach:\n",
    "To compare the similarities of two neighbourhoods, we decided to segment them and group them into clusters, definined by the most commom places found near each location. To be able to do that, we need to cluster data which is a form of unsupervised machine learning: k-means clustering algorithm\n",
    "\n",
    "\n",
    "## Libraries Which are Used to Develope the Project:\n",
    "Pandas: For creating and manipulating dataframes.\n",
    "Folium: Python visualization library would be used to visualize the neighborhoods cluster distribution using interactive leaflet map.\n",
    "Scikit Learn: For importing k-means clustering.\n",
    "JSON: Library to handle JSON files.\n",
    "XML: To separate data from presentation and XML stores data in plain text format.\n",
    "Geocoder: To retrieve Location Data.\n",
    "Beautiful Soup and Requests: To scrap and library to handle http requests.\n",
    "Matplotlib: Python Plotting Module."
   ]
  },
  {
   "cell_type": "markdown",
   "metadata": {},
   "source": [
    "## Data Description:\n",
    "\n",
    "Data Link: https://pt.wikipedia.org/wiki/Lista_dos_distritos_de_S%C3%A3o_Paulo_por_popula%C3%A7%C3%A3o\n",
    "\n",
    "Which contains the dataset of Postal Codes in São Paulo, as we scrapped from wikipedia on Week 3. Dataset consisting of latitude and longitude, zip codes.\n",
    "\n",
    "\n",
    "## Foursquare API Data:\n",
    "\n",
    "We will need data about different venues in different neighborhoods of that specific borough. \n",
    "In order to gain that information we will use Foursquare's location information. Foursquare is a location data provider with information about all sorts of venues and events within an area of interest. Such information includes venue names, locations, menus and even photos. As such, the foursquare location platform will be used as the sole data source since all the stated required information can be obtained through the API. \n",
    "\n",
    "After finding the list of neighborhoods, we then connect to the Foursquare API to gather information about venues inside each and every neighborhood. For each neighborhood, we have chosen the radius to be 100 meter.\n",
    "\n",
    "The data retrieved from Foursquare contained information of venues within a specified distance of the longitude and latitude of the postcodes. The information obtained per venue as follows:\n",
    "\n",
    "    1. Neighborhood\n",
    "    2. Neighborhood Latitude\n",
    "    3. Neighborhood Longitude\n",
    "    4. Venue\n",
    "    5. Name of the venue e.g. the name of a store or restaurant\n",
    "    6. Venue Latitude\n",
    "    7. Venue Longitude\n",
    "    8. Venue Category"
   ]
  },
  {
   "cell_type": "markdown",
   "metadata": {},
   "source": [
    "# Map of São Paulo:\n",
    "<img src=\"images/saopaulo1.png\">"
   ]
  },
  {
   "cell_type": "markdown",
   "metadata": {},
   "source": [
    "# Methodology Section\n",
    "Clustering Approach:\n",
    "We decided to explore neighborhoods, segment them, and group them into clusters to find similar neighborhoods in a big city like São Paulo. To be able to do that, we need to cluster data which is a form of unsupervised machine learning: k-means clustering algorithm.\n",
    "\n",
    "Using K-Means Clustering Approach:\n",
    "\n",
    "<img src=\"images/k-means.png\">"
   ]
  },
  {
   "cell_type": "markdown",
   "metadata": {},
   "source": [
    "## Work Flow:\n",
    "Using credentials of Foursquare API features of near-by places of the neighborhoods would be mined. Due to http request limitations the number of places per neighborhood parameter would reasonably be set to 300 and the radius parameter would be set to 1000."
   ]
  },
  {
   "cell_type": "markdown",
   "metadata": {},
   "source": [
    "# Results Section\n",
    "Map of Clusters in São Paulo:\n",
    "<img src=\"images/clusters.png\">"
   ]
  },
  {
   "cell_type": "markdown",
   "metadata": {},
   "source": [
    "# Conclusion Section\n",
    "Using the k-means cluster algorithm, we separated the neighborhoods into 6 different clusters and for 96 different lattitude and logitude from dataset, which have very-similar neighborhoods around them.\n",
    "\n",
    "I feel the results are very accurate with my experience living in São Paulo - Brazil, and they can benefit greatly someone new to the region in choosing a place to live.\n",
    "\n",
    "### Libraries used to Develop the Project:\n",
    ">Pandas: For creating and manipulating dataframes. <br>\n",
    ">Numpy: To deal with numbers in general. <br>\n",
    ">Folium: Python visualization library would be used to visualize the neighborhoods cluster distribution of using interactive leaflet map. <br>\n",
    ">Scikit Learn: For importing k-means clustering. <br>\n",
    ">JSON: Library to handle JSON files. <br>\n",
    ">XML: To separate data from presentation and XML stores data in plain text format. <br>\n",
    ">Geocoder: To retrieve Location Data. <br>\n",
    ">Beautiful Soup and Requests: To scrap and library to handle http requests. <br>\n",
    ">Matplotlib: Python Plotting Module. <br>\n",
    ">sklearn: Imported k-means"
   ]
  },
  {
   "cell_type": "code",
   "execution_count": null,
   "metadata": {},
   "outputs": [],
   "source": []
  }
 ],
 "metadata": {
  "kernelspec": {
   "display_name": "Python 3",
   "language": "python",
   "name": "python3"
  },
  "language_info": {
   "codemirror_mode": {
    "name": "ipython",
    "version": 3
   },
   "file_extension": ".py",
   "mimetype": "text/x-python",
   "name": "python",
   "nbconvert_exporter": "python",
   "pygments_lexer": "ipython3",
   "version": "3.8.8"
  }
 },
 "nbformat": 4,
 "nbformat_minor": 4
}
